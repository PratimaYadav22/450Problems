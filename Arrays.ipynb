{
 "cells": [
  {
   "cell_type": "code",
   "execution_count": 13,
   "metadata": {},
   "outputs": [],
   "source": [
    "#1. reverse the array\n",
    "def reverse(array):\n",
    "    return array[::-1]"
   ]
  },
  {
   "cell_type": "code",
   "execution_count": 14,
   "metadata": {},
   "outputs": [
    {
     "name": "stdout",
     "output_type": "stream",
     "text": [
      "[5, 4, 3, 2, 1]\n"
     ]
    }
   ],
   "source": [
    "a = [1,2,3,4,5]\n",
    "print(reverse(a))"
   ]
  },
  {
   "cell_type": "code",
   "execution_count": 46,
   "metadata": {},
   "outputs": [],
   "source": [
    "#selection sort\n",
    "def selection_sort(array):\n",
    "    n = len(array)\n",
    "    for i in range(n):\n",
    "        minimum = i\n",
    "        print(\"outer loop: \")\n",
    "        print(array[minimum])\n",
    "        for j in  range(i+1,n):\n",
    "            print(\"inner loop: \")\n",
    "            if(array[j]<array[minimum]):\n",
    "                minimum = j\n",
    "                print(array[minimum])\n",
    "        \n",
    "        array[i],array[minimum] = array[minimum],array[i]\n",
    "        print(array)\n",
    "    return array"
   ]
  },
  {
   "cell_type": "code",
   "execution_count": 47,
   "metadata": {},
   "outputs": [
    {
     "name": "stdout",
     "output_type": "stream",
     "text": [
      "outer loop: \n",
      "5\n",
      "inner loop: \n",
      "3\n",
      "inner loop: \n",
      "inner loop: \n",
      "inner loop: \n",
      "2\n",
      "inner loop: \n",
      "inner loop: \n",
      "inner loop: \n",
      "[2, 3, 6, 7, 5, 8, 5, 6]\n",
      "outer loop: \n",
      "3\n",
      "inner loop: \n",
      "inner loop: \n",
      "inner loop: \n",
      "inner loop: \n",
      "inner loop: \n",
      "inner loop: \n",
      "[2, 3, 6, 7, 5, 8, 5, 6]\n",
      "outer loop: \n",
      "6\n",
      "inner loop: \n",
      "inner loop: \n",
      "5\n",
      "inner loop: \n",
      "inner loop: \n",
      "inner loop: \n",
      "[2, 3, 5, 7, 6, 8, 5, 6]\n",
      "outer loop: \n",
      "7\n",
      "inner loop: \n",
      "6\n",
      "inner loop: \n",
      "inner loop: \n",
      "5\n",
      "inner loop: \n",
      "[2, 3, 5, 5, 6, 8, 7, 6]\n",
      "outer loop: \n",
      "6\n",
      "inner loop: \n",
      "inner loop: \n",
      "inner loop: \n",
      "[2, 3, 5, 5, 6, 8, 7, 6]\n",
      "outer loop: \n",
      "8\n",
      "inner loop: \n",
      "7\n",
      "inner loop: \n",
      "6\n",
      "[2, 3, 5, 5, 6, 6, 7, 8]\n",
      "outer loop: \n",
      "7\n",
      "inner loop: \n",
      "[2, 3, 5, 5, 6, 6, 7, 8]\n",
      "outer loop: \n",
      "8\n",
      "[2, 3, 5, 5, 6, 6, 7, 8]\n",
      "[2, 3, 5, 5, 6, 6, 7, 8]\n"
     ]
    }
   ],
   "source": [
    "arr = [5,3,6,7,2,8,5,6]\n",
    "print(selection_sort(arr))"
   ]
  },
  {
   "cell_type": "code",
   "execution_count": 67,
   "metadata": {},
   "outputs": [],
   "source": [
    "#bubble sort\n",
    "def bubble_sort(array):\n",
    "    n = len(array)\n",
    "    for i in range(n-2):\n",
    "        for j in range(0,n-i-1):\n",
    "            if(array[j]>array[j+1]):\n",
    "                array[j],array[j+1] = array[j+1],array[j]\n",
    "    return array"
   ]
  },
  {
   "cell_type": "code",
   "execution_count": 68,
   "metadata": {},
   "outputs": [
    {
     "name": "stdout",
     "output_type": "stream",
     "text": [
      "[4, 8, 36, 42, 45, 45, 86, 93]\n"
     ]
    }
   ],
   "source": [
    "array = [42,36,4,45,86,8,45,93]\n",
    "print(bubble_sort(array))"
   ]
  },
  {
   "cell_type": "code",
   "execution_count": 12,
   "metadata": {},
   "outputs": [],
   "source": [
    "def merge_sort(arr):\n",
    "    if len(arr) > 1:\n",
    "        mid = len(arr) // 2  # Finding the mid of the array\n",
    "        left_half = arr[:mid]  # Dividing the elements into 2 halves\n",
    "        right_half = arr[mid:]\n",
    "\n",
    "        # Print the current left and right halves\n",
    "        print(\"Left half:\", left_half)\n",
    "        print(\"Right half:\", right_half)\n",
    "\n",
    "        merge_sort(left_half)  # Sorting the first half\n",
    "        merge_sort(right_half)  # Sorting the second half\n",
    "\n",
    "        i = j = k = 0\n",
    "\n",
    "        # Copy data to temp arrays L[] and R[]\n",
    "        while i < len(left_half) and j < len(right_half):\n",
    "            print(i)\n",
    "            print(left_half[i])\n",
    "            print(right_half[i])\n",
    "            if left_half[i] < right_half[j]:\n",
    "                arr[k] = left_half[i]\n",
    "                i += 1\n",
    "            else:\n",
    "                arr[k] = right_half[j]\n",
    "                j += 1\n",
    "            k += 1\n",
    "\n",
    "        # Checking if any element was left\n",
    "        while i < len(left_half):\n",
    "            arr[k] = left_half[i]\n",
    "            i += 1\n",
    "            k += 1\n",
    "\n",
    "        while j < len(right_half):\n",
    "            arr[k] = right_half[j]\n",
    "            j += 1\n",
    "            k += 1\n",
    "\n",
    "    return arr\n"
   ]
  },
  {
   "cell_type": "code",
   "execution_count": 13,
   "metadata": {},
   "outputs": [
    {
     "name": "stdout",
     "output_type": "stream",
     "text": [
      "Left half: [12, 11, 13]\n",
      "Right half: [5, 6, 7]\n",
      "Left half: [12]\n",
      "Right half: [11, 13]\n",
      "Left half: [11]\n",
      "Right half: [13]\n",
      "0\n",
      "11\n",
      "13\n",
      "0\n",
      "12\n",
      "11\n",
      "0\n",
      "12\n",
      "11\n",
      "Left half: [5]\n",
      "Right half: [6, 7]\n",
      "Left half: [6]\n",
      "Right half: [7]\n",
      "0\n",
      "6\n",
      "7\n",
      "0\n",
      "5\n",
      "6\n",
      "0\n",
      "11\n",
      "5\n",
      "0\n",
      "11\n",
      "5\n",
      "0\n",
      "11\n",
      "5\n",
      "Sorted array is: [5, 6, 7, 11, 12, 13]\n"
     ]
    }
   ],
   "source": [
    "arr = [12, 11, 13, 5, 6, 7]\n",
    "sorted_array = merge_sort(arr)\n",
    "print(\"Sorted array is:\", sorted_array)"
   ]
  },
  {
   "cell_type": "code",
   "execution_count": 29,
   "metadata": {},
   "outputs": [],
   "source": [
    "def largest_element(arr):\n",
    "    largest = arr[0]\n",
    "    for i in range(1,len(arr)):\n",
    "        if largest < arr[i]:\n",
    "            largest = arr[i]\n",
    "    return arr[0]"
   ]
  },
  {
   "cell_type": "code",
   "execution_count": 30,
   "metadata": {},
   "outputs": [
    {
     "name": "stdout",
     "output_type": "stream",
     "text": [
      "3\n"
     ]
    }
   ],
   "source": [
    "arr = [2,5,1,3,0]\n",
    "print(largest_element(arr))"
   ]
  }
 ],
 "metadata": {
  "kernelspec": {
   "display_name": "base",
   "language": "python",
   "name": "python3"
  },
  "language_info": {
   "codemirror_mode": {
    "name": "ipython",
    "version": 3
   },
   "file_extension": ".py",
   "mimetype": "text/x-python",
   "name": "python",
   "nbconvert_exporter": "python",
   "pygments_lexer": "ipython3",
   "version": "3.11.5"
  }
 },
 "nbformat": 4,
 "nbformat_minor": 2
}
